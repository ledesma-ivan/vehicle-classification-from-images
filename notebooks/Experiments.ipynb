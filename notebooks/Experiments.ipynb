{
 "cells": [
  {
   "cell_type": "markdown",
   "id": "8210ae7d",
   "metadata": {},
   "source": [
    "Test 1:"
   ]
  },
  {
   "cell_type": "code",
   "execution_count": null,
   "id": "b7b42c2d",
   "metadata": {},
   "outputs": [],
   "source": [
    "model:\n",
    "    weights: \"imagenet\"\n",
    "    input_shape: [224, 224, 3]\n",
    "    classes: 196\n",
    "    dropout_rate: 0.2  \n",
    "    data_aug_layer:\n",
    "        random_flip:\n",
    "            mode: \"horizontal\"\n",
    "        random_zoom:\n",
    "            height_factor: 0.2\n",
    "            width_factor: 0.2\n",
    "compile:\n",
    "    optimizer:\n",
    "        adam:\n",
    "            learning_rate: 0.01   \n",
    "            epsilon: 0.1         \n",
    "            amsgrad: True\n",
    "\n"
   ]
  },
  {
   "cell_type": "markdown",
   "id": "c9cba956",
   "metadata": {},
   "source": [
    "Your model accuracy is 0.7549!\n"
   ]
  },
  {
   "cell_type": "markdown",
   "id": "66ea77b4",
   "metadata": {},
   "source": [
    "Test 2 "
   ]
  },
  {
   "cell_type": "code",
   "execution_count": null,
   "id": "30a8dfb4",
   "metadata": {},
   "outputs": [],
   "source": [
    "model:\n",
    "    weights: \"imagenet\"\n",
    "    input_shape: [224, 224, 3]\n",
    "    classes: 196\n",
    "    dropout_rate: 0.1 \n",
    "    data_aug_layer:\n",
    "        random_flip:\n",
    "            mode: \"horizontal\"\n",
    "        random_zoom:\n",
    "            height_factor: 0.2\n",
    "            width_factor: 0.2\n",
    "        random_contrast:\n",
    "            factor: 0.2\n",
    "compile:\n",
    "    optimizer:\n",
    "        adam:\n",
    "            learning_rate: 0.005    \n",
    "            epsilon: 0.05           \n",
    "            amsgrad: True\n"
   ]
  },
  {
   "cell_type": "markdown",
   "id": "4630f5d8",
   "metadata": {},
   "source": [
    "Your model accuracy is 0.7873!"
   ]
  },
  {
   "cell_type": "markdown",
   "id": "a6f32cf3",
   "metadata": {},
   "source": [
    "Test 3"
   ]
  },
  {
   "cell_type": "code",
   "execution_count": null,
   "id": "4d3918ad",
   "metadata": {},
   "outputs": [],
   "source": [
    "\n",
    "model:\n",
    "    weights: \"imagenet\"\n",
    "    input_shape: [224, 224, 3]\n",
    "    classes: 196\n",
    "    dropout_rate: 0.1 \n",
    "    data_aug_layer:\n",
    "        random_flip:\n",
    "            mode: \"horizontal\"\n",
    "        random_zoom:\n",
    "            height_factor: 0.2\n",
    "            width_factor: 0.2\n",
    "        random_contrast:\n",
    "            factor: 0.2\n",
    "compile:\n",
    "    optimizer:\n",
    "        adam:\n",
    "            learning_rate: 0.005  \n",
    "            epsilon: 0.05           \n",
    "            amsgrad: True"
   ]
  },
  {
   "cell_type": "markdown",
   "id": "2cf7bc90",
   "metadata": {},
   "source": [
    "Your model accuracy is 0.7662!\n"
   ]
  },
  {
   "cell_type": "code",
   "execution_count": null,
   "id": "cdbfd9c8",
   "metadata": {},
   "outputs": [],
   "source": [
    "# Conclusion:\n",
    "\n",
    "Como podemos observar podemos ver la mejor version es el test 3 y lo que se podria hacer para intentar mejorar mas es agregarle\n",
    "RandomBrightness, probar con el dropout_rate y modificando el optimizer. "
   ]
  }
 ],
 "metadata": {
  "kernelspec": {
   "display_name": "Python 3 (ipykernel)",
   "language": "python",
   "name": "python3"
  },
  "language_info": {
   "codemirror_mode": {
    "name": "ipython",
    "version": 3
   },
   "file_extension": ".py",
   "mimetype": "text/x-python",
   "name": "python",
   "nbconvert_exporter": "python",
   "pygments_lexer": "ipython3",
   "version": "3.8.10"
  },
  "vscode": {
   "interpreter": {
    "hash": "916dbcbb3f70747c44a77c7bcd40155683ae19c65e1c03b4aa3499c5328201f1"
   }
  }
 },
 "nbformat": 4,
 "nbformat_minor": 5
}
